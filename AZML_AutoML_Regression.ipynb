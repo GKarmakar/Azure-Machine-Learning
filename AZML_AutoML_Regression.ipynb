{
 "cells": [
  {
   "cell_type": "code",
   "execution_count": 1,
   "metadata": {},
   "outputs": [
    {
     "name": "stderr",
     "output_type": "stream",
     "text": [
      "/anaconda3/envs/azmlenv/lib/python3.5/site-packages/lightgbm/__init__.py:45: FutureWarning: Starting from version 2.2.1, the library file in distribution wheels for macOS will be built by the Apple Clang compiler.\n",
      "This means that in case of installing LightGBM from PyPI via the ``pip install lightgbm`` command, you won't need to install the gcc compiler anymore.\n",
      "Instead of that, you'll need to install the OpenMP library, which is required for running LightGBM on the system with the Apple Clang compiler.\n",
      "You can install the OpenMP library by the following command: ``brew install libomp``.\n",
      "  \"You can install the OpenMP library by the following command: ``brew install libomp``.\", FutureWarning)\n",
      "/anaconda3/envs/azmlenv/lib/python3.5/importlib/_bootstrap.py:222: RuntimeWarning: compiletime version 3.6 of module 'tensorflow.python.framework.fast_tensor_util' does not match runtime version 3.5\n",
      "  return f(*args, **kwds)\n"
     ]
    }
   ],
   "source": [
    "import logging\n",
    "import os\n",
    "import random\n",
    "\n",
    "from matplotlib import pyplot as plt\n",
    "from matplotlib.pyplot import imshow\n",
    "import numpy as np\n",
    "import pandas as pd\n",
    "from sklearn import datasets\n",
    "\n",
    "import azureml.core\n",
    "from azureml.core.experiment import Experiment\n",
    "from azureml.core.workspace import Workspace\n",
    "from azureml.train.automl import AutoMLConfig\n",
    "from azureml.train.automl.run import AutoMLRun"
   ]
  },
  {
   "cell_type": "code",
   "execution_count": 2,
   "metadata": {},
   "outputs": [
    {
     "name": "stdout",
     "output_type": "stream",
     "text": [
      "Found the config file in: /Users/trinakarmakar/codelibs/aml_config/config.json\n"
     ]
    },
    {
     "data": {
      "text/html": [
       "<div>\n",
       "<style scoped>\n",
       "    .dataframe tbody tr th:only-of-type {\n",
       "        vertical-align: middle;\n",
       "    }\n",
       "\n",
       "    .dataframe tbody tr th {\n",
       "        vertical-align: top;\n",
       "    }\n",
       "\n",
       "    .dataframe thead th {\n",
       "        text-align: right;\n",
       "    }\n",
       "</style>\n",
       "<table border=\"1\" class=\"dataframe\">\n",
       "  <thead>\n",
       "    <tr style=\"text-align: right;\">\n",
       "      <th></th>\n",
       "      <th></th>\n",
       "    </tr>\n",
       "  </thead>\n",
       "  <tbody>\n",
       "    <tr>\n",
       "      <th>Experiment Name</th>\n",
       "      <td>automl-local-regression</td>\n",
       "    </tr>\n",
       "    <tr>\n",
       "      <th>Location</th>\n",
       "      <td>eastus2</td>\n",
       "    </tr>\n",
       "    <tr>\n",
       "      <th>Project Directory</th>\n",
       "      <td>./sample_projects/automl-local-regression</td>\n",
       "    </tr>\n",
       "    <tr>\n",
       "      <th>Resource Group</th>\n",
       "      <td>mymlexp</td>\n",
       "    </tr>\n",
       "    <tr>\n",
       "      <th>SDK version</th>\n",
       "      <td>0.1.74</td>\n",
       "    </tr>\n",
       "    <tr>\n",
       "      <th>Subscription ID</th>\n",
       "      <td>1e30ba0a-66fa-4479-9bca-95ba2cf71b20</td>\n",
       "    </tr>\n",
       "    <tr>\n",
       "      <th>Workspace Name</th>\n",
       "      <td>mymlworkspace</td>\n",
       "    </tr>\n",
       "  </tbody>\n",
       "</table>\n",
       "</div>"
      ],
      "text/plain": [
       "                                                            \n",
       "Experiment Name    automl-local-regression                  \n",
       "Location           eastus2                                  \n",
       "Project Directory  ./sample_projects/automl-local-regression\n",
       "Resource Group     mymlexp                                  \n",
       "SDK version        0.1.74                                   \n",
       "Subscription ID    1e30ba0a-66fa-4479-9bca-95ba2cf71b20     \n",
       "Workspace Name     mymlworkspace                            "
      ]
     },
     "execution_count": 2,
     "metadata": {},
     "output_type": "execute_result"
    }
   ],
   "source": [
    "ws = Workspace.from_config()\n",
    "\n",
    "# Choose a name for the experiment and specify the project folder.\n",
    "experiment_name = 'automl-local-regression'\n",
    "project_folder = './sample_projects/automl-local-regression'\n",
    "\n",
    "experiment = Experiment(ws, experiment_name)\n",
    "\n",
    "output = {}\n",
    "output['SDK version'] = azureml.core.VERSION\n",
    "output['Subscription ID'] = ws.subscription_id\n",
    "output['Workspace Name'] = ws.name\n",
    "output['Resource Group'] = ws.resource_group\n",
    "output['Location'] = ws.location\n",
    "output['Project Directory'] = project_folder\n",
    "output['Experiment Name'] = experiment.name\n",
    "pd.set_option('display.max_colwidth', -1)\n",
    "pd.DataFrame(data = output, index = ['']).T"
   ]
  },
  {
   "cell_type": "code",
   "execution_count": 3,
   "metadata": {},
   "outputs": [],
   "source": [
    "from azureml.telemetry import set_diagnostics_collection\n",
    "set_diagnostics_collection(send_diagnostics = True)"
   ]
  },
  {
   "cell_type": "code",
   "execution_count": 4,
   "metadata": {},
   "outputs": [],
   "source": [
    "# Load the diabetes dataset, a well-known built-in small dataset that comes with scikit-learn.\n",
    "from sklearn.datasets import load_diabetes\n",
    "from sklearn.linear_model import Ridge\n",
    "from sklearn.metrics import mean_squared_error\n",
    "from sklearn.model_selection import train_test_split\n",
    "\n",
    "X, y = load_diabetes(return_X_y = True)\n",
    "\n",
    "columns = ['age', 'gender', 'bmi', 'bp', 's1', 's2', 's3', 's4', 's5', 's6']\n",
    "\n",
    "X_train, X_test, y_train, y_test = train_test_split(X, y, test_size = 0.2, random_state = 0)"
   ]
  },
  {
   "cell_type": "code",
   "execution_count": 5,
   "metadata": {},
   "outputs": [],
   "source": [
    "automl_config = AutoMLConfig(task = 'regression',\n",
    "                             max_time_sec = 600,\n",
    "                             iterations = 10,\n",
    "                             primary_metric = 'spearman_correlation',\n",
    "                             n_cross_validations = 5,\n",
    "                             debug_log = 'automl.log',\n",
    "                             verbosity = logging.INFO,\n",
    "                             X = X_train, \n",
    "                             y = y_train,\n",
    "                             path = project_folder)"
   ]
  },
  {
   "cell_type": "code",
   "execution_count": 6,
   "metadata": {},
   "outputs": [
    {
     "name": "stdout",
     "output_type": "stream",
     "text": [
      "Parent Run ID: AutoML_95c40106-d015-4da4-94b2-2b86ef222b62\n",
      "***********************************************************************************************\n",
      "ITERATION: The iteration being evaluated.\n",
      "PIPELINE: A summary description of the pipeline being evaluated.\n",
      "DURATION: Time taken for the current iteration.\n",
      "METRIC: The result of computing score on the fitted pipeline.\n",
      "BEST: The best observed score thus far.\n",
      "***********************************************************************************************\n",
      "\n",
      " ITERATION     PIPELINE                               DURATION                METRIC      BEST\n",
      "         0      MaxAbsScaler ExtraTreesRegressor      0:00:07.265565           0.698     0.698\n",
      "         1      StandardScalerWrapper RandomForestRegr0:00:05.403351           0.689     0.698\n",
      "         2      StandardScalerWrapper KNeighborsRegres0:00:04.883624           0.701     0.701\n",
      "         3      StandardScalerWrapper GradientBoosting0:00:06.420273           0.701     0.701\n",
      "         4      StandardScalerWrapper LightGBMRegresso0:00:05.458846           0.686     0.701\n",
      "         5      StandardScalerWrapper RandomForestRegr0:00:06.861359           0.689     0.701\n",
      "         6      MinMaxScaler LightGBMRegressor        0:00:05.700423           0.692     0.701\n",
      "         7      RobustScaler LightGBMRegressor        0:00:05.316588           0.668     0.701\n",
      "         8      StandardScalerWrapper LightGBMRegresso0:00:06.929765           0.650     0.701\n",
      "         9      StandardScalerWrapper ExtraTreesRegres0:00:10.531666           0.708     0.708\n"
     ]
    }
   ],
   "source": [
    "local_run = experiment.submit(automl_config, show_output = True)"
   ]
  },
  {
   "cell_type": "code",
   "execution_count": 7,
   "metadata": {},
   "outputs": [
    {
     "data": {
      "text/html": [
       "<table style=\"width:100%\"><tr><th>Experiment</th><th>Id</th><th>Type</th><th>Status</th><th>Details Page</th><th>Docs Page</th></tr><tr><td>automl-local-regression</td><td>AutoML_95c40106-d015-4da4-94b2-2b86ef222b62</td><td>automl</td><td>Completed</td><td><a href=\"https://mlworkspace.azure.ai/portal/subscriptions/1e30ba0a-66fa-4479-9bca-95ba2cf71b20/resourceGroups/mymlexp/providers/Microsoft.MachineLearningServices/workspaces/mymlworkspace/experiments/automl-local-regression/runs/AutoML_95c40106-d015-4da4-94b2-2b86ef222b62\" target=\"_blank\" rel=\"noopener\">Link to Azure Portal</a></td><td><a href=\"https://docs.microsoft.com/en-us/python/api/overview/azure/ml/intro?view=azure-ml-py\" target=\"_blank\" rel=\"noopener\">Link to Documentation</a></td></tr></table>"
      ],
      "text/plain": [
       "Run(Experiment: automl-local-regression,\n",
       "Id: AutoML_95c40106-d015-4da4-94b2-2b86ef222b62,\n",
       "Type: automl,\n",
       "Status: Completed)"
      ]
     },
     "execution_count": 7,
     "metadata": {},
     "output_type": "execute_result"
    }
   ],
   "source": [
    "local_run"
   ]
  },
  {
   "cell_type": "code",
   "execution_count": 8,
   "metadata": {},
   "outputs": [
    {
     "data": {
      "application/vnd.jupyter.widget-view+json": {
       "model_id": "99ef81af00d14219a0cf09f8f1021883",
       "version_major": 2,
       "version_minor": 0
      },
      "text/plain": [
       "_AutoML(widget_settings={'childWidgetDisplay': 'popup'})"
      ]
     },
     "metadata": {},
     "output_type": "display_data"
    }
   ],
   "source": [
    "from azureml.train.widgets import RunDetails\n",
    "RunDetails(local_run).show()"
   ]
  },
  {
   "cell_type": "code",
   "execution_count": 9,
   "metadata": {},
   "outputs": [
    {
     "data": {
      "text/html": [
       "<div>\n",
       "<style scoped>\n",
       "    .dataframe tbody tr th:only-of-type {\n",
       "        vertical-align: middle;\n",
       "    }\n",
       "\n",
       "    .dataframe tbody tr th {\n",
       "        vertical-align: top;\n",
       "    }\n",
       "\n",
       "    .dataframe thead th {\n",
       "        text-align: right;\n",
       "    }\n",
       "</style>\n",
       "<table border=\"1\" class=\"dataframe\">\n",
       "  <thead>\n",
       "    <tr style=\"text-align: right;\">\n",
       "      <th></th>\n",
       "      <th>0</th>\n",
       "      <th>1</th>\n",
       "      <th>2</th>\n",
       "      <th>3</th>\n",
       "      <th>4</th>\n",
       "      <th>5</th>\n",
       "      <th>6</th>\n",
       "      <th>7</th>\n",
       "      <th>8</th>\n",
       "      <th>9</th>\n",
       "    </tr>\n",
       "  </thead>\n",
       "  <tbody>\n",
       "    <tr>\n",
       "      <th>explained_variance</th>\n",
       "      <td>0.495558</td>\n",
       "      <td>0.489559</td>\n",
       "      <td>0.460291</td>\n",
       "      <td>0.509891</td>\n",
       "      <td>0.476664</td>\n",
       "      <td>0.491541</td>\n",
       "      <td>0.490480</td>\n",
       "      <td>0.458824</td>\n",
       "      <td>0.406171</td>\n",
       "      <td>0.518125</td>\n",
       "    </tr>\n",
       "    <tr>\n",
       "      <th>mean_absolute_error</th>\n",
       "      <td>47.160483</td>\n",
       "      <td>46.043692</td>\n",
       "      <td>48.623435</td>\n",
       "      <td>44.638841</td>\n",
       "      <td>46.282905</td>\n",
       "      <td>46.316555</td>\n",
       "      <td>44.982650</td>\n",
       "      <td>49.167708</td>\n",
       "      <td>51.655219</td>\n",
       "      <td>44.968775</td>\n",
       "    </tr>\n",
       "    <tr>\n",
       "      <th>median_absolute_error</th>\n",
       "      <td>44.183299</td>\n",
       "      <td>41.500806</td>\n",
       "      <td>45.722450</td>\n",
       "      <td>40.872725</td>\n",
       "      <td>42.001903</td>\n",
       "      <td>40.924479</td>\n",
       "      <td>40.293991</td>\n",
       "      <td>44.480263</td>\n",
       "      <td>49.540164</td>\n",
       "      <td>40.217908</td>\n",
       "    </tr>\n",
       "    <tr>\n",
       "      <th>normalized_mean_absolute_error</th>\n",
       "      <td>0.146917</td>\n",
       "      <td>0.143438</td>\n",
       "      <td>0.151475</td>\n",
       "      <td>0.139062</td>\n",
       "      <td>0.144184</td>\n",
       "      <td>0.144288</td>\n",
       "      <td>0.140133</td>\n",
       "      <td>0.153170</td>\n",
       "      <td>0.160920</td>\n",
       "      <td>0.140090</td>\n",
       "    </tr>\n",
       "    <tr>\n",
       "      <th>normalized_median_absolute_error</th>\n",
       "      <td>0.137643</td>\n",
       "      <td>0.129286</td>\n",
       "      <td>0.142438</td>\n",
       "      <td>0.127329</td>\n",
       "      <td>0.130847</td>\n",
       "      <td>0.127491</td>\n",
       "      <td>0.125526</td>\n",
       "      <td>0.138568</td>\n",
       "      <td>0.154331</td>\n",
       "      <td>0.125289</td>\n",
       "    </tr>\n",
       "    <tr>\n",
       "      <th>normalized_root_mean_squared_error</th>\n",
       "      <td>0.174512</td>\n",
       "      <td>0.175745</td>\n",
       "      <td>0.180329</td>\n",
       "      <td>0.172797</td>\n",
       "      <td>0.178581</td>\n",
       "      <td>0.174449</td>\n",
       "      <td>0.174868</td>\n",
       "      <td>0.181117</td>\n",
       "      <td>0.188517</td>\n",
       "      <td>0.170289</td>\n",
       "    </tr>\n",
       "    <tr>\n",
       "      <th>normalized_root_mean_squared_log_error</th>\n",
       "      <td>0.169105</td>\n",
       "      <td>0.167951</td>\n",
       "      <td>0.169446</td>\n",
       "      <td>0.166342</td>\n",
       "      <td>0.170832</td>\n",
       "      <td>0.165206</td>\n",
       "      <td>0.166680</td>\n",
       "      <td>0.177280</td>\n",
       "      <td>0.180548</td>\n",
       "      <td>0.163450</td>\n",
       "    </tr>\n",
       "    <tr>\n",
       "      <th>r2_score</th>\n",
       "      <td>0.474075</td>\n",
       "      <td>0.465272</td>\n",
       "      <td>0.440167</td>\n",
       "      <td>0.486158</td>\n",
       "      <td>0.450926</td>\n",
       "      <td>0.474400</td>\n",
       "      <td>0.472716</td>\n",
       "      <td>0.434574</td>\n",
       "      <td>0.390026</td>\n",
       "      <td>0.499636</td>\n",
       "    </tr>\n",
       "    <tr>\n",
       "      <th>root_mean_squared_error</th>\n",
       "      <td>56.018487</td>\n",
       "      <td>56.414209</td>\n",
       "      <td>57.885652</td>\n",
       "      <td>55.467991</td>\n",
       "      <td>57.324374</td>\n",
       "      <td>55.998023</td>\n",
       "      <td>56.132474</td>\n",
       "      <td>58.138573</td>\n",
       "      <td>60.513928</td>\n",
       "      <td>54.662827</td>\n",
       "    </tr>\n",
       "    <tr>\n",
       "      <th>root_mean_squared_log_error</th>\n",
       "      <td>0.438189</td>\n",
       "      <td>0.435200</td>\n",
       "      <td>0.439072</td>\n",
       "      <td>0.431029</td>\n",
       "      <td>0.442665</td>\n",
       "      <td>0.428087</td>\n",
       "      <td>0.431905</td>\n",
       "      <td>0.459374</td>\n",
       "      <td>0.467842</td>\n",
       "      <td>0.423537</td>\n",
       "    </tr>\n",
       "    <tr>\n",
       "      <th>spearman_correlation</th>\n",
       "      <td>0.698476</td>\n",
       "      <td>0.688883</td>\n",
       "      <td>0.700978</td>\n",
       "      <td>0.701118</td>\n",
       "      <td>0.686032</td>\n",
       "      <td>0.688537</td>\n",
       "      <td>0.691534</td>\n",
       "      <td>0.667654</td>\n",
       "      <td>0.649704</td>\n",
       "      <td>0.707921</td>\n",
       "    </tr>\n",
       "    <tr>\n",
       "      <th>spearman_correlation_max</th>\n",
       "      <td>0.698476</td>\n",
       "      <td>0.698476</td>\n",
       "      <td>0.700978</td>\n",
       "      <td>0.701118</td>\n",
       "      <td>0.701118</td>\n",
       "      <td>0.701118</td>\n",
       "      <td>0.701118</td>\n",
       "      <td>0.701118</td>\n",
       "      <td>0.701118</td>\n",
       "      <td>0.707921</td>\n",
       "    </tr>\n",
       "  </tbody>\n",
       "</table>\n",
       "</div>"
      ],
      "text/plain": [
       "                                                0          1          2  \\\n",
       "explained_variance                      0.495558   0.489559   0.460291    \n",
       "mean_absolute_error                     47.160483  46.043692  48.623435   \n",
       "median_absolute_error                   44.183299  41.500806  45.722450   \n",
       "normalized_mean_absolute_error          0.146917   0.143438   0.151475    \n",
       "normalized_median_absolute_error        0.137643   0.129286   0.142438    \n",
       "normalized_root_mean_squared_error      0.174512   0.175745   0.180329    \n",
       "normalized_root_mean_squared_log_error  0.169105   0.167951   0.169446    \n",
       "r2_score                                0.474075   0.465272   0.440167    \n",
       "root_mean_squared_error                 56.018487  56.414209  57.885652   \n",
       "root_mean_squared_log_error             0.438189   0.435200   0.439072    \n",
       "spearman_correlation                    0.698476   0.688883   0.700978    \n",
       "spearman_correlation_max                0.698476   0.698476   0.700978    \n",
       "\n",
       "                                                3          4          5  \\\n",
       "explained_variance                      0.509891   0.476664   0.491541    \n",
       "mean_absolute_error                     44.638841  46.282905  46.316555   \n",
       "median_absolute_error                   40.872725  42.001903  40.924479   \n",
       "normalized_mean_absolute_error          0.139062   0.144184   0.144288    \n",
       "normalized_median_absolute_error        0.127329   0.130847   0.127491    \n",
       "normalized_root_mean_squared_error      0.172797   0.178581   0.174449    \n",
       "normalized_root_mean_squared_log_error  0.166342   0.170832   0.165206    \n",
       "r2_score                                0.486158   0.450926   0.474400    \n",
       "root_mean_squared_error                 55.467991  57.324374  55.998023   \n",
       "root_mean_squared_log_error             0.431029   0.442665   0.428087    \n",
       "spearman_correlation                    0.701118   0.686032   0.688537    \n",
       "spearman_correlation_max                0.701118   0.701118   0.701118    \n",
       "\n",
       "                                                6          7          8  \\\n",
       "explained_variance                      0.490480   0.458824   0.406171    \n",
       "mean_absolute_error                     44.982650  49.167708  51.655219   \n",
       "median_absolute_error                   40.293991  44.480263  49.540164   \n",
       "normalized_mean_absolute_error          0.140133   0.153170   0.160920    \n",
       "normalized_median_absolute_error        0.125526   0.138568   0.154331    \n",
       "normalized_root_mean_squared_error      0.174868   0.181117   0.188517    \n",
       "normalized_root_mean_squared_log_error  0.166680   0.177280   0.180548    \n",
       "r2_score                                0.472716   0.434574   0.390026    \n",
       "root_mean_squared_error                 56.132474  58.138573  60.513928   \n",
       "root_mean_squared_log_error             0.431905   0.459374   0.467842    \n",
       "spearman_correlation                    0.691534   0.667654   0.649704    \n",
       "spearman_correlation_max                0.701118   0.701118   0.701118    \n",
       "\n",
       "                                                9  \n",
       "explained_variance                      0.518125   \n",
       "mean_absolute_error                     44.968775  \n",
       "median_absolute_error                   40.217908  \n",
       "normalized_mean_absolute_error          0.140090   \n",
       "normalized_median_absolute_error        0.125289   \n",
       "normalized_root_mean_squared_error      0.170289   \n",
       "normalized_root_mean_squared_log_error  0.163450   \n",
       "r2_score                                0.499636   \n",
       "root_mean_squared_error                 54.662827  \n",
       "root_mean_squared_log_error             0.423537   \n",
       "spearman_correlation                    0.707921   \n",
       "spearman_correlation_max                0.707921   "
      ]
     },
     "execution_count": 9,
     "metadata": {},
     "output_type": "execute_result"
    }
   ],
   "source": [
    "children = list(local_run.get_children())\n",
    "metricslist = {}\n",
    "for run in children:\n",
    "    properties = run.get_properties()\n",
    "    metrics = {k: v for k, v in run.get_metrics().items() if isinstance(v, float)}\n",
    "    metricslist[int(properties['iteration'])] = metrics\n",
    "\n",
    "rundata = pd.DataFrame(metricslist).sort_index(1)\n",
    "rundata"
   ]
  },
  {
   "cell_type": "code",
   "execution_count": 10,
   "metadata": {},
   "outputs": [
    {
     "name": "stdout",
     "output_type": "stream",
     "text": [
      "Run(Experiment: automl-local-regression,\n",
      "Id: AutoML_95c40106-d015-4da4-94b2-2b86ef222b62_9,\n",
      "Type: None,\n",
      "Status: Completed)\n",
      "Pipeline(memory=None,\n",
      "     steps=[('StandardScalerWrapper', <automl.client.core.common.model_wrappers.StandardScalerWrapper object at 0x1a21fc5908>), ('ExtraTreesRegressor', ExtraTreesRegressor(bootstrap=False, criterion='mse', max_depth=None,\n",
      "          max_features=0.6, max_leaf_nodes=None, min_impurity_decrease=0.0,\n",
      "       ...timators=200, n_jobs=1,\n",
      "          oob_score=False, random_state=None, verbose=0, warm_start=False))])\n"
     ]
    }
   ],
   "source": [
    "best_run, fitted_model = local_run.get_output()\n",
    "print(best_run)\n",
    "print(fitted_model)"
   ]
  },
  {
   "cell_type": "code",
   "execution_count": 11,
   "metadata": {},
   "outputs": [
    {
     "name": "stdout",
     "output_type": "stream",
     "text": [
      "Run(Experiment: automl-local-regression,\n",
      "Id: AutoML_95c40106-d015-4da4-94b2-2b86ef222b62_9,\n",
      "Type: None,\n",
      "Status: Completed)\n",
      "Pipeline(memory=None,\n",
      "     steps=[('StandardScalerWrapper', <automl.client.core.common.model_wrappers.StandardScalerWrapper object at 0x10f496860>), ('ExtraTreesRegressor', ExtraTreesRegressor(bootstrap=False, criterion='mse', max_depth=None,\n",
      "          max_features=0.6, max_leaf_nodes=None, min_impurity_decrease=0.0,\n",
      "        ...timators=200, n_jobs=1,\n",
      "          oob_score=False, random_state=None, verbose=0, warm_start=False))])\n"
     ]
    }
   ],
   "source": [
    "lookup_metric = \"root_mean_squared_error\"\n",
    "best_run, fitted_model = local_run.get_output(metric = lookup_metric)\n",
    "print(best_run)\n",
    "print(fitted_model)"
   ]
  },
  {
   "cell_type": "code",
   "execution_count": 12,
   "metadata": {},
   "outputs": [
    {
     "name": "stdout",
     "output_type": "stream",
     "text": [
      "Run(Experiment: automl-local-regression,\n",
      "Id: AutoML_95c40106-d015-4da4-94b2-2b86ef222b62_3,\n",
      "Type: None,\n",
      "Status: Completed)\n",
      "Pipeline(memory=None,\n",
      "     steps=[('StandardScalerWrapper', <automl.client.core.common.model_wrappers.StandardScalerWrapper object at 0x10f4ac080>), ('GradientBoostingRegressor', GradientBoostingRegressor(alpha=0.5, criterion='mse', init=None,\n",
      "             learning_rate=0.1, loss='ls', max_depth=6, max_features=None,\n",
      "        ...       random_state=None, subsample=0.44999999999999996, verbose=0,\n",
      "             warm_start=False))])\n"
     ]
    }
   ],
   "source": [
    "#show and run the model from 3rd iteration\n",
    "iteration = 3\n",
    "third_run, third_model = local_run.get_output(iteration = iteration)\n",
    "print(third_run)\n",
    "print(third_model)"
   ]
  },
  {
   "cell_type": "code",
   "execution_count": 13,
   "metadata": {},
   "outputs": [],
   "source": [
    "y_pred_train = fitted_model.predict(X_train)\n",
    "y_residual_train = y_train - y_pred_train\n",
    "\n",
    "y_pred_test = fitted_model.predict(X_test)\n",
    "y_residual_test = y_test - y_pred_test"
   ]
  },
  {
   "cell_type": "code",
   "execution_count": 14,
   "metadata": {},
   "outputs": [
    {
     "data": {
      "image/png": "[encoded data removed]",
      "text/plain": [
       "<Figure size 1152x432 with 2 Axes>"
      ]
     },
     "metadata": {
      "needs_background": "light"
     },
     "output_type": "display_data"
    }
   ],
   "source": [
    "%matplotlib inline\n",
    "import matplotlib.pyplot as plt\n",
    "import numpy as np\n",
    "from sklearn import datasets\n",
    "from sklearn.metrics import mean_squared_error, r2_score\n",
    "\n",
    "# Set up a multi-plot chart.\n",
    "f, (a0, a1) = plt.subplots(1, 2, gridspec_kw = {'width_ratios':[1, 1], 'wspace':0, 'hspace': 0})\n",
    "f.suptitle('Regression Residual Values', fontsize = 18)\n",
    "f.set_figheight(6)\n",
    "f.set_figwidth(16)\n",
    "\n",
    "# Plot residual values of training set.\n",
    "a0.axis([0, 360, -200, 200])\n",
    "a0.plot(y_residual_train, 'bo', alpha = 0.5)\n",
    "a0.plot([-10,360],[0,0], 'r-', lw = 3)\n",
    "a0.text(16,170,'RMSE = {0:.2f}'.format(np.sqrt(mean_squared_error(y_train, y_pred_train))), fontsize = 12)\n",
    "a0.text(16,140,'R2 score = {0:.2f}'.format(r2_score(y_train, y_pred_train)), fontsize = 12)\n",
    "a0.set_xlabel('Training samples', fontsize = 12)\n",
    "a0.set_ylabel('Residual Values', fontsize = 12)\n",
    "\n",
    "# Plot a histogram.\n",
    "a0.hist(y_residual_train, orientation = 'horizontal', color = 'b', bins = 10, histtype = 'step');\n",
    "a0.hist(y_residual_train, orientation = 'horizontal', color = 'b', alpha = 0.2, bins = 10);\n",
    "\n",
    "# Plot residual values of test set.\n",
    "a1.axis([0, 90, -200, 200])\n",
    "a1.plot(y_residual_test, 'bo', alpha = 0.5)\n",
    "a1.plot([-10,360],[0,0], 'r-', lw = 3)\n",
    "a1.text(5,170,'RMSE = {0:.2f}'.format(np.sqrt(mean_squared_error(y_test, y_pred_test))), fontsize = 12)\n",
    "a1.text(5,140,'R2 score = {0:.2f}'.format(r2_score(y_test, y_pred_test)), fontsize = 12)\n",
    "a1.set_xlabel('Test samples', fontsize = 12)\n",
    "a1.set_yticklabels([])\n",
    "\n",
    "# Plot a histogram.\n",
    "a1.hist(y_residual_test, orientation = 'horizontal', color = 'b', bins = 10, histtype = 'step')\n",
    "a1.hist(y_residual_test, orientation = 'horizontal', color = 'b', alpha = 0.2, bins = 10)\n",
    "\n",
    "plt.show()"
   ]
  },
  {
   "cell_type": "code",
   "execution_count": null,
   "metadata": {},
   "outputs": [],
   "source": []
  }
 ],
 "metadata": {
  "kernelspec": {
   "display_name": "Python 3",
   "language": "python",
   "name": "python3"
  },
  "language_info": {
   "codemirror_mode": {
    "name": "ipython",
    "version": 3
   },
   "file_extension": ".py",
   "mimetype": "text/x-python",
   "name": "python",
   "nbconvert_exporter": "python",
   "pygments_lexer": "ipython3",
   "version": "3.5.6"
  }
 },
 "nbformat": 4,
 "nbformat_minor": 2
}
