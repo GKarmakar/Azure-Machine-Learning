{
 "cells": [
  {
   "cell_type": "markdown",
   "metadata": {},
   "source": [
    "## Azure Machine Learning Solutions – Building End to End Scalable Machine Learning model and deploy anywhere – Cloud, Edge or On-premise"
   ]
  },
  {
   "cell_type": "markdown",
   "metadata": {},
   "source": [
    "### What is machine learning?\n",
    "Machine learning is a technique of data science where computers can learn from data without being explicitly programmed to predict future behavior, trends, pattern and outcomes. Some examples are detecting spam emails, classifying images into multiple groups, forecast weather of tomorrow or next week. For example, if machine sees a similarity of characteristics between a current transaction with previously recorded as fraud transaction, it can generate an alert and block the transaction flagged it as potential for fraud. It also probabilistic rather deterministic. For example, saying that the transaction is either appropriate of fraud with complete certainty it will say that there is 85.5% chance that transaction is fraud."
   ]
  },
  {
   "cell_type": "markdown",
   "metadata": {},
   "source": [
    "### What is Azure Machine Learning?\n",
    "It’s a cloud service offered in azure to build, train, deploy and monitor machine learning models that integrates with boarder azure services."
   ]
  },
  {
   "cell_type": "markdown",
   "metadata": {},
   "source": [
    "### Azure Machine Learning – A closer look:\n",
    "Azure Machine Learning provides suite of tools and technology that enables developer to build, train, evaluate, deploy and manage machine learning model art scale. It supports most popular developer’s tools that are easy to use, flexible and integrated. For example, as an IDE for developers it offers Jupyter Notebook (OSS) and Visual Studio tools for AI. This makes it easy to explore and visualize data, clean and transform, engineer features, build and test models and deploy in a scalable infrastructure. It lets you experiment to your local machine and then deploy when you are ready to a large-scale compute infrastructure of your choice. \n",
    "It also comes with full scale Azure Machine Learning SDK for python, one of the most popular language in machine learning today. It comes with most popular python packages which you will need to build machine learning models. There are many open source packages available such as \n",
    "\n",
    "    > Scikit-learn\n",
    "    > Tensorflow\n",
    "    > PyTorch\n",
    "    > CNTK\n",
    "    > MXNet\n",
    "\n",
    "You will get a native support of Azure Batch AI compute infrastructure along with advanced hyperparameter tuning services. You can deploy them using container image such as docker. It means you can either use azure container services (ACS) or Azure Kubernetes Services (AKS)."
   ]
  },
  {
   "cell_type": "markdown",
   "metadata": {},
   "source": [
    "### How it is different from Azure ML studio?\n",
    "Azure ML studio is a no code approach to build, train and deploy model. You can get quickly started with azure ML studio if you are starting fresh and need to build and deploy model quickly and that doesn’t need lot of skills of machine learning. This is a drag and drop approach and you can get most of the popular models such as classification and regression type problems. You can also quickly deploy the model using web service which will use REST API for you. But if you want most flexible environment where you want to control development and deployment options you need to use azure machine learning for richer model development experience.\n",
    "\n",
    "Azure machine learning model also comes with feature called automated machine learning where model is built for you that you can train with your data, test and deploy as any other model. These are sets of model collections that are very rich, powerful and highly optimized. Automated machine learning also comes with suite of features for data processing that are very common in machine learning applications.\n",
    "\n",
    "You can use these tools through interactive IDE such as Jupyter notebook, Visual Studio Tool for AI or use data prep SDK in python as part of boarder Azure Machine Learning SDK package. Currently data prep SDK supports impute missing value, fuzzy group auto join, automated file type detection, varying schema processing and others. These tools can be used as cross platform manner in windows, Mac, Linux and Spark as scale out manner for high performance."
   ]
  },
  {
   "cell_type": "markdown",
   "metadata": {},
   "source": [
    "<img src=\"./azml.PNG\">"
   ]
  },
  {
   "cell_type": "markdown",
   "metadata": {},
   "source": [
    "Azure automated machine learning and tools are constantly getting updated with richer sets of features so please keep an eye for new additions."
   ]
  },
  {
   "cell_type": "markdown",
   "metadata": {},
   "source": [
    "### Experiment:\n",
    "Now, we will use Jupyter notebook to build, train, deploy a machine learning model using azure machine learning. In this tutorial we will use python inside jupyter notebook for everything. But environment setting can also be done using portal. All we need is a subscription and choice of region. I recommend you using region closer to where you are running application."
   ]
  },
  {
   "cell_type": "markdown",
   "metadata": {},
   "source": [
    "#### Install SDK\n",
    "Before you install SDK, it is better if you create a isolated python or conda environment if you have anaconda installed. I also want to mention that everything I ran on Mac not on windows.\n",
    "In your terminal command prompt run these commands to install azure ML and necessary packages:\n",
    "\n",
    "conda create -n myazml Python=3.\n",
    "\n",
    "conda cactivate myazenv\n",
    "\n",
    "Install the base SDK, Jupyter notebook and automl\n",
    "\n",
    "python -m pip install azureml-sdk[notebooks, automl]\n",
    "\n",
    "You also need to have some additional packages to run the experiment that we are going to run in this tutorial.\n",
    "\n",
    "conda install -y cython matplotlib scikit-learn pandas numpy\n",
    "\n",
    "python -m pip install azureml-sdk[automl]\n",
    "\n",
    "install run history widget\n",
    "jupyter nbextension install --py --user azureml.train.widgets\n",
    "\n",
    "enable run history widget\n",
    "jupyter nbextension enable --py --user azureml.train.widgets"
   ]
  },
  {
   "cell_type": "code",
   "execution_count": null,
   "metadata": {},
   "outputs": [],
   "source": [
    "#In the notebook make sure myazenv is selected by your kernel and then execute these command in a cell \n",
    "import azureml.core\n",
    "\n",
    "print(\"SDK Version:\", azureml.core.VERSION)"
   ]
  },
  {
   "cell_type": "code",
   "execution_count": null,
   "metadata": {},
   "outputs": [],
   "source": [
    "#Now before we can run an experiment using azure ml, we need to create an workspace which is like a workstation where you create experiment, register models and run experiment.\n",
    "# Import the Workspace class and check the Azure ML SDK version.\n",
    "from azureml.core import Workspace\n",
    "\n",
    "ws = Workspace.create(name='myworkspace',\n",
    "                      subscription_id='<azure-subscription-id>',    \n",
    "                      resource_group='myresourcegroup',\n",
    "                      create_resource_group=True, #This will create a new resource group, if you want to use an existing set False\n",
    "                      location='eastus2' # or other supported Azure region  \n",
    "                     )\n",
    "# see workspace details\n",
    "ws.get_details()"
   ]
  },
  {
   "cell_type": "code",
   "execution_count": null,
   "metadata": {},
   "outputs": [],
   "source": [
    "#Now to use this workspace you need to save a configuration file, that you can upload later for any experiment.\n",
    "#This will create a config.json file in your local directory\n",
    "ws.write_config()\n",
    "#load config file to validate\n",
    "ws = Workspace.from_config()\n",
    "ws.get_details()"
   ]
  },
  {
   "cell_type": "markdown",
   "metadata": {},
   "source": [
    "you should see a json doc like this\n",
    "\n",
    "{\n",
    "    \"subscription_id\": \"azure-subscription-id\",\n",
    "    \"resource_group\": \"myresourcegroup\",\n",
    "    \"workspace_name\": \"myworkspace\"\n",
    "}"
   ]
  },
  {
   "cell_type": "markdown",
   "metadata": {},
   "source": [
    "#### Create a Folder to Host All Sample Projects\n",
    "Finally, create a folder where all the sample projects will be hosted."
   ]
  },
  {
   "cell_type": "code",
   "execution_count": null,
   "metadata": {},
   "outputs": [],
   "source": [
    "import os\n",
    "sample_projects_folder = './sample_projects'\n",
    "if not os.path.isdir(sample_projects_folder):\n",
    "    os.mkdir(sample_projects_folder)\n",
    "    \n",
    "print('Sample projects will be created in {}.'.format(sample_projects_folder))"
   ]
  },
  {
   "cell_type": "code",
   "execution_count": null,
   "metadata": {},
   "outputs": [],
   "source": []
  }
 ],
 "metadata": {
  "kernelspec": {
   "display_name": "Python 3",
   "language": "python",
   "name": "python3"
  },
  "language_info": {
   "codemirror_mode": {
    "name": "ipython",
    "version": 3
   },
   "file_extension": ".py",
   "mimetype": "text/x-python",
   "name": "python",
   "nbconvert_exporter": "python",
   "pygments_lexer": "ipython3",
   "version": "3.6.6"
  }
 },
 "nbformat": 4,
 "nbformat_minor": 2
}
