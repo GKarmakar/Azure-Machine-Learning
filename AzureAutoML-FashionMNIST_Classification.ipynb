{
 "cells": [
  {
   "cell_type": "markdown",
   "metadata": {},
   "source": [
    "### AutoML 01: Classification with Local Compute\n",
    "In this example we use the scikit-learn's digit dataset to showcase how you can use AutoML for a simple classification problem.\n",
    "\n",
    "Make sure you have executed the 00.configuration before running this notebook.\n",
    "\n",
    "In this notebook you will learn how to:\n",
    "\n",
    "Create an Experiment in an existing Workspace.\n",
    "Configure AutoML using AutoMLConfig.\n",
    "Train the model using local compute.\n",
    "Explore the results.\n",
    "Test the best fitted model.\n",
    "Create an Experiment\n",
    "As part of the setup you have already created an Azure ML Workspace object. For AutoML you will need to create an Experiment object, which is a named object in a Workspace used to run experiments."
   ]
  },
  {
   "cell_type": "code",
   "execution_count": 51,
   "metadata": {},
   "outputs": [],
   "source": [
    "#Load all the necessary libraries\n",
    "import azureml.core\n",
    "import pandas as pd\n",
    "from azureml.core.workspace import Workspace\n",
    "from azureml.train.automl.run import AutoMLRun\n",
    "import time\n",
    "import logging\n",
    "from sklearn import datasets\n",
    "import matplotlib.pyplot as plt\n",
    "from matplotlib.pyplot import imshow\n",
    "import random\n",
    "import numpy as np\n",
    "import os"
   ]
  },
  {
   "cell_type": "code",
   "execution_count": 52,
   "metadata": {},
   "outputs": [],
   "source": [
    "import seaborn as sns\n",
    "import tensorflow as tf\n",
    "from tensorflow.python.framework import ops\n",
    "#from tensorflow import keras\n",
    "import itertools"
   ]
  },
  {
   "cell_type": "code",
   "execution_count": 53,
   "metadata": {},
   "outputs": [],
   "source": [
    "subscription_id = \"1e30ba0a-66fa-4479-9bca-95ba2cf71b20\"\n",
    "resource_group = \"azmlexp\"\n",
    "workspace_name = \"mymlworkspace\"\n",
    "workspace_region = \"eastus2\""
   ]
  },
  {
   "cell_type": "code",
   "execution_count": 4,
   "metadata": {},
   "outputs": [],
   "source": [
    "# Import the Workspace class and check the Azure ML SDK version.\n",
    "#from azureml.core import Workspace\n",
    "\n",
    "#ws = Workspace.create(name = workspace_name,\n",
    "#                      subscription_id = subscription_id,\n",
    "#                      resource_group = resource_group, \n",
    "#                      location = workspace_region)\n",
    "#ws.get_details()"
   ]
  },
  {
   "cell_type": "code",
   "execution_count": 6,
   "metadata": {},
   "outputs": [
    {
     "name": "stdout",
     "output_type": "stream",
     "text": [
      "Wrote the config file config.json to: /Users/trinakarmakar/codelibs/aml_config/config.json\n"
     ]
    }
   ],
   "source": [
    "#Validate you have access to the workspace and create a config file from the workspace\n",
    "#from azureml.core import Workspace\n",
    "\n",
    "#ws = Workspace(workspace_name = workspace_name,\n",
    "#               subscription_id = subscription_id,\n",
    "#               resource_group = resource_group)\n",
    "#\n",
    "# Persist the subscription id, resource group name, and workspace name in aml_config/config.json.\n",
    "#ws.write_config()"
   ]
  },
  {
   "cell_type": "code",
   "execution_count": 54,
   "metadata": {},
   "outputs": [
    {
     "name": "stdout",
     "output_type": "stream",
     "text": [
      "Found the config file in: /Users/trinakarmakar/codelibs/aml_config/config.json\n"
     ]
    },
    {
     "data": {
      "text/plain": [
       "{'applicationInsights': '/subscriptions/1e30ba0a-66fa-4479-9bca-95ba2cf71b20/resourcegroups/azmlexp/providers/microsoft.insights/components/mymlworkinsightsiuiukpxg',\n",
       " 'batchaiWorkspace': '/subscriptions/1e30ba0a-66fa-4479-9bca-95ba2cf71b20/resourcegroups/azmlexp/providers/microsoft.batchai/workspaces/mymlworkbatchai_lybletfw',\n",
       " 'containerRegistry': '/subscriptions/1e30ba0a-66fa-4479-9bca-95ba2cf71b20/resourcegroups/azmlexp/providers/microsoft.containerregistry/registries/mymlworkacrezcgyngt',\n",
       " 'description': '',\n",
       " 'friendlyName': 'mymlworkspace',\n",
       " 'id': '/subscriptions/1e30ba0a-66fa-4479-9bca-95ba2cf71b20/resourceGroups/azmlexp/providers/Microsoft.MachineLearningServices/workspaces/mymlworkspace',\n",
       " 'identityPrincipalId': 'b8b69460-50de-436f-a469-d5e88c606e3e',\n",
       " 'identityTenantId': '72f988bf-86f1-41af-91ab-2d7cd011db47',\n",
       " 'identityType': 'SystemAssigned',\n",
       " 'keyVault': '/subscriptions/1e30ba0a-66fa-4479-9bca-95ba2cf71b20/resourcegroups/azmlexp/providers/microsoft.keyvault/vaults/mymlworkkeyvaultwdhqomby',\n",
       " 'location': 'eastus2',\n",
       " 'name': 'mymlworkspace',\n",
       " 'storageAccount': '/subscriptions/1e30ba0a-66fa-4479-9bca-95ba2cf71b20/resourcegroups/azmlexp/providers/microsoft.storage/storageaccounts/mymlworkstorageiayeiogr',\n",
       " 'type': 'Microsoft.MachineLearningServices/workspaces'}"
      ]
     },
     "execution_count": 54,
     "metadata": {},
     "output_type": "execute_result"
    }
   ],
   "source": [
    "#Load the wokspace and get details\n",
    "# Load workspace configuration from ./aml_config/config.json file.\n",
    "my_workspace = Workspace.from_config()\n",
    "my_workspace.get_details()"
   ]
  },
  {
   "cell_type": "markdown",
   "metadata": {},
   "source": [
    "Import the Fashion MNIST dataset\n",
    "This guide uses the Fashion MNIST dataset which contains 70,000 grayscale images in 10 categories. The images show individual articles of clothing at low resolution (28 by 28 pixels), as seen here:\n",
    "\n",
    "Fashion MNIST sprite\n",
    "\n",
    "<img src=\"fashion.png\">\n",
    "\n",
    "Fashion MNIST is intended as a drop-in replacement for the classic MNIST dataset—often used as the \"Hello, World\" of machine learning programs for computer vision. The MNIST dataset contains images of handwritten digits (0, 1, 2, etc) in an identical format to the articles of clothing we'll use here.\n",
    "\n",
    "This guide uses Fashion MNIST for variety, and because it's a slightly more challenging problem than regular MNIST. Both datasets are relatively small and are used to verify that an algorithm works as expected. They're good starting points to test and debug code.\n",
    "\n",
    "We will use 60,000 images to train the network and 10,000 images to evaluate how accurately the network learned to classify images. You can access the Fashion MNIST directly from TensorFlow, just import and load the data:"
   ]
  },
  {
   "cell_type": "code",
   "execution_count": 55,
   "metadata": {},
   "outputs": [],
   "source": [
    "# Import Fashion MNIST\n",
    "from tensorflow import keras\n",
    "fashion_mnist = keras.datasets.fashion_mnist\n",
    "(train_images, train_labels), (test_images, test_labels) = fashion_mnist.load_data()"
   ]
  },
  {
   "cell_type": "code",
   "execution_count": 56,
   "metadata": {},
   "outputs": [
    {
     "name": "stdout",
     "output_type": "stream",
     "text": [
      "Training set (images) shape: (60000, 28, 28)\n",
      "Training set (labels) shape: (60000,)\n",
      "Test set (images) shape: (10000, 28, 28)\n",
      "Test set (labels) shape: (10000,)\n"
     ]
    }
   ],
   "source": [
    "# Shapes of training set\n",
    "print(\"Training set (images) shape: {shape}\".format(shape=train_images.shape))\n",
    "print(\"Training set (labels) shape: {shape}\".format(shape=train_labels.shape))\n",
    "# Shapes of test set\n",
    "print(\"Test set (images) shape: {shape}\".format(shape=test_images.shape))\n",
    "print(\"Test set (labels) shape: {shape}\".format(shape=test_labels.shape))"
   ]
  },
  {
   "cell_type": "code",
   "execution_count": 8,
   "metadata": {},
   "outputs": [],
   "source": [
    "# Create dictionary of target classes\n",
    "class_names = ['T-shirt/top', 'Trouser', 'Pullover', 'Dress', 'Coat', \n",
    "               'Sandal', 'Shirt', 'Sneaker', 'Bag', 'Ankle boot']"
   ]
  },
  {
   "cell_type": "code",
   "execution_count": 9,
   "metadata": {},
   "outputs": [
    {
     "data": {
      "image/png": "[encoded data removed]",
      "text/plain": [
       "<Figure size 432x288 with 2 Axes>"
      ]
     },
     "metadata": {
      "needs_background": "light"
     },
     "output_type": "display_data"
    }
   ],
   "source": [
    "plt.figure()\n",
    "plt.imshow(train_images[0])\n",
    "plt.colorbar()\n",
    "plt.grid(False)"
   ]
  },
  {
   "cell_type": "code",
   "execution_count": 10,
   "metadata": {},
   "outputs": [
    {
     "data": {
      "image/png": "[encoded data removed]",
      "text/plain": [
       "<Figure size 720x720 with 25 Axes>"
      ]
     },
     "metadata": {},
     "output_type": "display_data"
    }
   ],
   "source": [
    "plt.figure(figsize=(10,10))\n",
    "for i in range(25):\n",
    "    plt.subplot(5,5,i+1)\n",
    "    plt.xticks([])\n",
    "    plt.yticks([])\n",
    "    plt.grid(False)\n",
    "    plt.imshow(train_images[i], cmap=plt.cm.binary)\n",
    "    plt.xlabel(class_names[train_labels[i]])"
   ]
  },
  {
   "cell_type": "code",
   "execution_count": 11,
   "metadata": {},
   "outputs": [],
   "source": [
    "import azureml.core\n",
    "import pandas as pd\n",
    "from azureml.core.workspace import Workspace\n",
    "from azureml.train.automl.run import AutoMLRun\n",
    "import time\n",
    "import logging"
   ]
  },
  {
   "cell_type": "code",
   "execution_count": 12,
   "metadata": {},
   "outputs": [
    {
     "name": "stdout",
     "output_type": "stream",
     "text": [
      "Found the config file in: /Users/trinakarmakar/codelibs/aml_config/config.json\n"
     ]
    }
   ],
   "source": [
    "#Configure workspace\n",
    "from azureml.core import Workspace\n",
    "ws = Workspace.from_config()\n",
    "#Project folder to save your local files\n",
    "project_folder = './sample_projects/automl/fasionMNIST'\n",
    "#choose a name for the run history container in the workspace\n",
    "experiment_name = 'automl-flashion-mnist-classifier'"
   ]
  },
  {
   "cell_type": "code",
   "execution_count": 13,
   "metadata": {},
   "outputs": [
    {
     "data": {
      "text/html": [
       "<div>\n",
       "<style scoped>\n",
       "    .dataframe tbody tr th:only-of-type {\n",
       "        vertical-align: middle;\n",
       "    }\n",
       "\n",
       "    .dataframe tbody tr th {\n",
       "        vertical-align: top;\n",
       "    }\n",
       "\n",
       "    .dataframe thead th {\n",
       "        text-align: right;\n",
       "    }\n",
       "</style>\n",
       "<table border=\"1\" class=\"dataframe\">\n",
       "  <thead>\n",
       "    <tr style=\"text-align: right;\">\n",
       "      <th></th>\n",
       "      <th></th>\n",
       "    </tr>\n",
       "  </thead>\n",
       "  <tbody>\n",
       "    <tr>\n",
       "      <th>Location</th>\n",
       "      <td>eastus2</td>\n",
       "    </tr>\n",
       "    <tr>\n",
       "      <th>Project Directory</th>\n",
       "      <td>./sample_projects/automl/fasionMNIST</td>\n",
       "    </tr>\n",
       "    <tr>\n",
       "      <th>Resource Group</th>\n",
       "      <td>azmlexp</td>\n",
       "    </tr>\n",
       "    <tr>\n",
       "      <th>Subscription ID</th>\n",
       "      <td>1e30ba0a-66fa-4479-9bca-95ba2cf71b20</td>\n",
       "    </tr>\n",
       "    <tr>\n",
       "      <th>Workspace</th>\n",
       "      <td>mymlworkspace</td>\n",
       "    </tr>\n",
       "    <tr>\n",
       "      <th>sdk_version</th>\n",
       "      <td>0.1.74</td>\n",
       "    </tr>\n",
       "  </tbody>\n",
       "</table>\n",
       "</div>"
      ],
      "text/plain": [
       "                                                       \n",
       "Location           eastus2                             \n",
       "Project Directory  ./sample_projects/automl/fasionMNIST\n",
       "Resource Group     azmlexp                             \n",
       "Subscription ID    1e30ba0a-66fa-4479-9bca-95ba2cf71b20\n",
       "Workspace          mymlworkspace                       \n",
       "sdk_version        0.1.74                              "
      ]
     },
     "execution_count": 13,
     "metadata": {},
     "output_type": "execute_result"
    }
   ],
   "source": [
    "output = {}\n",
    "output['sdk_version'] = azureml.core.VERSION\n",
    "output['Subscription ID'] = ws.subscription_id\n",
    "output['Workspace'] = ws.name\n",
    "output['Resource Group'] = ws.resource_group\n",
    "output['Location'] = ws.location\n",
    "output['Project Directory'] = project_folder\n",
    "pd.set_option('display.max_colwidth', -1)\n",
    "pd.DataFrame(data=output, index=['']).T"
   ]
  },
  {
   "cell_type": "code",
   "execution_count": 59,
   "metadata": {},
   "outputs": [
    {
     "name": "stdout",
     "output_type": "stream",
     "text": [
      "(60000, 28, 28)\n"
     ]
    }
   ],
   "source": [
    "train_labels = train_labels.astype(np.int32)\n",
    "print(train_images.shape)"
   ]
  },
  {
   "cell_type": "code",
   "execution_count": 60,
   "metadata": {},
   "outputs": [
    {
     "name": "stdout",
     "output_type": "stream",
     "text": [
      "(60000, 784)\n"
     ]
    }
   ],
   "source": [
    "train_images = train_images.reshape(train_images.shape[0], 784)\n",
    "print(train_images.shape)"
   ]
  },
  {
   "cell_type": "code",
   "execution_count": 61,
   "metadata": {},
   "outputs": [
    {
     "name": "stdout",
     "output_type": "stream",
     "text": [
      "(10000, 784)\n"
     ]
    }
   ],
   "source": [
    "test_images = test_images.reshape(test_images.shape[0], 784)\n",
    "print(test_images.shape)"
   ]
  },
  {
   "cell_type": "code",
   "execution_count": 62,
   "metadata": {},
   "outputs": [],
   "source": [
    "from azureml.train.automl import AutoMLConfig\n",
    "Automl_config = AutoMLConfig(task = 'classification',\n",
    "                             primary_metric = 'AUC_weighted',\n",
    "                             max_time_sec = 12000,\n",
    "                             iterations = 2,\n",
    "                             n_cross_validations = 3,\n",
    "                             preprocess = False,\n",
    "                             exit_score = 0.97,\n",
    "                             blacklist_algos = ['kNN','LinearSVM'],\n",
    "                             X = train_images,\n",
    "                             y = train_labels,\n",
    "                             path=project_folder)"
   ]
  },
  {
   "cell_type": "code",
   "execution_count": 63,
   "metadata": {},
   "outputs": [
    {
     "name": "stdout",
     "output_type": "stream",
     "text": [
      "Parent Run ID: AutoML_4271bb46-2071-405f-9f3b-88d4d2038761\n",
      "***********************************************************************************************\n",
      "ITERATION: The iteration being evaluated.\n",
      "PIPELINE: A summary description of the pipeline being evaluated.\n",
      "DURATION: Time taken for the current iteration.\n",
      "METRIC: The result of computing score on the fitted pipeline.\n",
      "BEST: The best observed score thus far.\n",
      "***********************************************************************************************\n",
      "\n",
      " ITERATION     PIPELINE                               DURATION                METRIC      BEST\n",
      "         0      MaxAbsScaler LightGBMClassifier       0:01:44.382609           0.985     0.985\n",
      "Stopping criteria reached at iteration 1. Ending experiment."
     ]
    }
   ],
   "source": [
    "from azureml.core.experiment import Experiment\n",
    "experiment=Experiment(ws, experiment_name)\n",
    "local_run = experiment.submit(Automl_config, show_output=True)"
   ]
  },
  {
   "cell_type": "code",
   "execution_count": 64,
   "metadata": {},
   "outputs": [
    {
     "data": {
      "application/vnd.jupyter.widget-view+json": {
       "model_id": "d0ec093b1f7b4b809247f90239454e18",
       "version_major": 2,
       "version_minor": 0
      },
      "text/plain": [
       "_AutoML(widget_settings={'childWidgetDisplay': 'popup'})"
      ]
     },
     "metadata": {},
     "output_type": "display_data"
    }
   ],
   "source": [
    "from azureml.train.widgets import RunDetails\n",
    "RunDetails(local_run).show()"
   ]
  },
  {
   "cell_type": "code",
   "execution_count": 65,
   "metadata": {},
   "outputs": [
    {
     "data": {
      "text/plain": [
       "['./outputs/fashion_mnist_model.pkl']"
      ]
     },
     "execution_count": 65,
     "metadata": {},
     "output_type": "execute_result"
    }
   ],
   "source": [
    "# find the run with the highest accuracy value.\n",
    "best_run, fitted_model = local_run.get_output()\n",
    "\n",
    "# register model in workspace\n",
    "from sklearn.externals import joblib\n",
    "description = 'Automated Machine Learning Model for Fashion MNIST'\n",
    "tags = \"Fashion MNIST\"\n",
    "os.makedirs('outputs', exist_ok=True)\n",
    "# note file saved in the outputs folder is automatically uploaded into experiment record\n",
    "joblib.dump(value=fitted_model, filename='./outputs/fashion_mnist_model.pkl')"
   ]
  },
  {
   "cell_type": "markdown",
   "metadata": {},
   "source": [
    "### Register theFitted Model for Deployment\n",
    "If neither metric nor iteration are specified in the register_model call, the iteration with the best primary metric is registered."
   ]
  },
  {
   "cell_type": "code",
   "execution_count": 66,
   "metadata": {},
   "outputs": [
    {
     "name": "stdout",
     "output_type": "stream",
     "text": [
      "Registering model AutoML4271bb462best\n"
     ]
    },
    {
     "data": {
      "text/plain": [
       "'AutoML4271bb462best'"
      ]
     },
     "execution_count": 66,
     "metadata": {},
     "output_type": "execute_result"
    }
   ],
   "source": [
    "description = 'AutoML Model'\n",
    "tags = None\n",
    "model = local_run.register_model(description = description, tags = tags)\n",
    "local_run.model_id # This will be written to the script file later in the notebook."
   ]
  },
  {
   "cell_type": "markdown",
   "metadata": {},
   "source": [
    "### Create the scoring script, called score.py, used by the web service call to show how to use the model.\n",
    "\n",
    "You must include two required functions into the scoring script:\n",
    "\n",
    "The init() function, which typically loads the model into a global object. This function is run only once when the Docker container is started.\n",
    "\n",
    "The run(input_data) function uses the model to predict a value based on the input data. Inputs and outputs to the run typically use JSON for serialization and de-serialization, but other formats are supported."
   ]
  },
  {
   "cell_type": "code",
   "execution_count": 67,
   "metadata": {},
   "outputs": [
    {
     "name": "stdout",
     "output_type": "stream",
     "text": [
      "Overwriting score.py\n"
     ]
    }
   ],
   "source": [
    "%%writefile score.py\n",
    "import pickle\n",
    "import json\n",
    "import numpy\n",
    "import azureml.train.automl\n",
    "from sklearn.externals import joblib\n",
    "from azureml.core.model import Model\n",
    "\n",
    "\n",
    "def init():\n",
    "    global model\n",
    "    model_path = Model.get_model_path(model_name = '<<modelid>>') # this name is model.id of model that we want to deploy\n",
    "    # deserialize the model file back into a sklearn model\n",
    "    model = joblib.load(model_path)\n",
    "\n",
    "def run(rawdata):\n",
    "    try:\n",
    "        data = json.loads(rawdata)['data']\n",
    "        data = numpy.array(data)\n",
    "        result = model.predict(data)\n",
    "    except Exception as e:\n",
    "        result = str(e)\n",
    "        return json.dumps({\"error\": result})\n",
    "    return json.dumps({\"result\":result.tolist()})"
   ]
  },
  {
   "cell_type": "code",
   "execution_count": 68,
   "metadata": {},
   "outputs": [],
   "source": [
    "experiment_name = 'automl-local-classification'\n",
    "\n",
    "experiment = Experiment(ws, experiment_name)\n",
    "ml_run = AutoMLRun(experiment = experiment, run_id = local_run.id)"
   ]
  },
  {
   "cell_type": "code",
   "execution_count": 76,
   "metadata": {},
   "outputs": [
    {
     "name": "stdout",
     "output_type": "stream",
     "text": [
      "Iteration number is not passed, retrieve the environment for the parent run.\n",
      "No issues found in the SDK package versions.\n"
     ]
    },
    {
     "data": {
      "text/plain": [
       "{'azureml-core': '0.1.74',\n",
       " 'azureml-dataprep': '0.3.0',\n",
       " 'azureml-dataprep-native': '10.4.0',\n",
       " 'azureml-pipeline': '0.1.74',\n",
       " 'azureml-pipeline-core': '0.1.74',\n",
       " 'azureml-pipeline-steps': '0.1.74',\n",
       " 'azureml-sdk': '0.1.74',\n",
       " 'azureml-telemetry': '0.1.74',\n",
       " 'azureml-train': '0.1.74',\n",
       " 'azureml-train-automl': '0.1.74',\n",
       " 'azureml-train-core': '0.1.74',\n",
       " 'azureml-train-restclients-hyperdrive': '0.1.74',\n",
       " 'azureml-train-widgets': '0.1.74'}"
      ]
     },
     "execution_count": 76,
     "metadata": {},
     "output_type": "execute_result"
    }
   ],
   "source": [
    "ml_run.get_run_sdk_dependencies()"
   ]
  },
  {
   "cell_type": "code",
   "execution_count": 83,
   "metadata": {},
   "outputs": [
    {
     "name": "stdout",
     "output_type": "stream",
     "text": [
      "No issues found in the SDK package versions.\n"
     ]
    }
   ],
   "source": [
    "dependencies = ml_run.get_run_sdk_dependencies(iteration = 0)"
   ]
  },
  {
   "cell_type": "code",
   "execution_count": 84,
   "metadata": {},
   "outputs": [
    {
     "name": "stdout",
     "output_type": "stream",
     "text": [
      "azureml-train-automl\t0.1.74\n",
      "azureml-sdk\t0.1.74\n",
      "azureml-core\t0.1.74\n"
     ]
    }
   ],
   "source": [
    "for p in ['azureml-train-automl', 'azureml-sdk', 'azureml-core']:\n",
    "    print('{}\\t{}'.format(p, dependencies[p]))"
   ]
  },
  {
   "cell_type": "code",
   "execution_count": 85,
   "metadata": {},
   "outputs": [
    {
     "data": {
      "text/plain": [
       "'myenv.yml'"
      ]
     },
     "execution_count": 85,
     "metadata": {},
     "output_type": "execute_result"
    }
   ],
   "source": [
    "from azureml.core.conda_dependencies import CondaDependencies\n",
    "\n",
    "myenv = CondaDependencies.create(conda_packages=['numpy','scikit-learn'], pip_packages=['azureml-sdk[automl]'])\n",
    "\n",
    "conda_env_file_name = 'myenv.yml'\n",
    "myenv.save_to_file('.', conda_env_file_name)"
   ]
  },
  {
   "cell_type": "code",
   "execution_count": 86,
   "metadata": {},
   "outputs": [],
   "source": [
    "# Substitute the actual version number in the environment file.\n",
    "# This is not strictly needed in this notebook because the model should have been generated using the current SDK version.\n",
    "# However, we include this in case this code is used on an experiment from a previous SDK version.\n",
    "\n",
    "with open(conda_env_file_name, 'r') as cefr:\n",
    "    content = cefr.read()\n",
    "\n",
    "with open(conda_env_file_name, 'w') as cefw:\n",
    "    cefw.write(content.replace(azureml.core.VERSION, dependencies['azureml-sdk']))\n",
    "\n",
    "# Substitute the actual model id in the script file.\n",
    "\n",
    "script_file_name = 'score.py'\n",
    "\n",
    "with open(script_file_name, 'r') as cefr:\n",
    "    content = cefr.read()\n",
    "\n",
    "with open(script_file_name, 'w') as cefw:\n",
    "    cefw.write(content.replace('<<modelid>>', local_run.model_id))"
   ]
  },
  {
   "cell_type": "markdown",
   "metadata": {},
   "source": [
    "### Create a Container Image"
   ]
  },
  {
   "cell_type": "code",
   "execution_count": 87,
   "metadata": {},
   "outputs": [
    {
     "name": "stdout",
     "output_type": "stream",
     "text": [
      "Creating image\n",
      "Running...................................................\n",
      "SucceededImage creation operation finished for image automlsampleimage:1, operation \"Succeeded\"\n"
     ]
    }
   ],
   "source": [
    "from azureml.core.image import Image, ContainerImage\n",
    "\n",
    "image_config = ContainerImage.image_configuration(runtime= \"python\",\n",
    "                                 execution_script = script_file_name,\n",
    "                                 conda_file = conda_env_file_name,\n",
    "                                 tags = {'area': \"digits\", 'type': \"automl_classification\"},\n",
    "                                 description = \"Image for automl classification sample\")\n",
    "\n",
    "image = Image.create(name = \"automlsampleimage\",\n",
    "                     # this is the model object \n",
    "                     models = [model],\n",
    "                     image_config = image_config, \n",
    "                     workspace = ws)\n",
    "\n",
    "image.wait_for_creation(show_output = True)\n",
    "\n",
    "if image.creation_state == 'Failed':\n",
    "    print(\"Image build log at: \" + image.image_build_log_uri)"
   ]
  },
  {
   "cell_type": "markdown",
   "metadata": {},
   "source": [
    "### Deploy as web service\n",
    "Once you've tested the model and are satisfied with the results, deploy the model as a web service hosted in ACI.\n",
    "\n",
    "To build the correct environment for ACI, provide the following:\n",
    "\n",
    "A scoring script to show how to use the model\n",
    "An environment file to show what packages need to be installed\n",
    "A configuration file to build the ACI\n",
    "The model you trained before\n",
    "Create scoring script"
   ]
  },
  {
   "cell_type": "code",
   "execution_count": 88,
   "metadata": {},
   "outputs": [],
   "source": [
    "from azureml.core.webservice import AciWebservice\n",
    "\n",
    "aciconfig = AciWebservice.deploy_configuration(cpu_cores = 1, \n",
    "                                               memory_gb = 1, \n",
    "                                               tags = {'area': \"digits\", 'type': \"automl_classification\"}, \n",
    "                                               description = 'sample service for Automl Classification')"
   ]
  },
  {
   "cell_type": "code",
   "execution_count": 89,
   "metadata": {},
   "outputs": [
    {
     "name": "stdout",
     "output_type": "stream",
     "text": [
      "automl-sample-01\n",
      "Creating service\n",
      "Running.................................\n",
      "SucceededACI service creation operation finished, operation \"Succeeded\"\n",
      "Healthy\n"
     ]
    }
   ],
   "source": [
    "from azureml.core.webservice import Webservice\n",
    "\n",
    "aci_service_name = 'automl-sample-01'\n",
    "print(aci_service_name)\n",
    "aci_service = Webservice.deploy_from_image(deployment_config = aciconfig,\n",
    "                                           image = image,\n",
    "                                           name = aci_service_name,\n",
    "                                           workspace = ws)\n",
    "aci_service.wait_for_deployment(True)\n",
    "print(aci_service.state)"
   ]
  },
  {
   "cell_type": "markdown",
   "metadata": {},
   "source": [
    "### Delete the service"
   ]
  },
  {
   "cell_type": "code",
   "execution_count": null,
   "metadata": {},
   "outputs": [],
   "source": [
    "#aci_service.delete()"
   ]
  },
  {
   "cell_type": "markdown",
   "metadata": {},
   "source": [
    "### Get Logs from a Deployed Web Service"
   ]
  },
  {
   "cell_type": "code",
   "execution_count": null,
   "metadata": {},
   "outputs": [],
   "source": [
    "#aci_service.get_logs()"
   ]
  },
  {
   "cell_type": "code",
   "execution_count": 97,
   "metadata": {},
   "outputs": [
    {
     "name": "stdout",
     "output_type": "stream",
     "text": [
      "84\n"
     ]
    },
    {
     "data": {
      "image/png": "[encoded data removed]",
      "text/plain": [
       "<Figure size 216x216 with 1 Axes>"
      ]
     },
     "metadata": {
      "needs_background": "light"
     },
     "output_type": "display_data"
    },
    {
     "name": "stdout",
     "output_type": "stream",
     "text": [
      "49\n"
     ]
    },
    {
     "data": {
      "image/png": "[encoded data removed]",
      "text/plain": [
       "<Figure size 216x216 with 1 Axes>"
      ]
     },
     "metadata": {
      "needs_background": "light"
     },
     "output_type": "display_data"
    },
    {
     "name": "stdout",
     "output_type": "stream",
     "text": [
      "16\n"
     ]
    },
    {
     "data": {
      "image/png": "[encoded data removed]",
      "text/plain": [
       "<Figure size 216x216 with 1 Axes>"
      ]
     },
     "metadata": {
      "needs_background": "light"
     },
     "output_type": "display_data"
    }
   ],
   "source": [
    "#Randomly select digits and test\n",
    "import json\n",
    "test_images = test_images.reshape(test_images.shape[0], 784)\n",
    "test_labels = test_labels.astype(np.int32)\n",
    "X_test = test_images[:100, :]\n",
    "y_test = test_labels[:100]\n",
    "for index in np.random.choice(len(y_test), 3, replace = False):\n",
    "    print(index)\n",
    "    test_sample = json.dumps({'data':X_test[index:index + 1].tolist()})\n",
    "    predicted = aci_service.run(input_data = test_sample)\n",
    "    label = y_test[index]\n",
    "    predictedDict = json.loads(predicted)\n",
    "    title = \"Label = %s  Predicted = %s \" % ( class_names[label],class_names[predictedDict['result'][0]])\n",
    "    fig = plt.figure(1, figsize = (3,3))\n",
    "    ax1 = fig.add_axes((0,0,.8,.8))\n",
    "    ax1.set_title(title)\n",
    "    plt.imshow(test_images[index].reshape(28, 28), cmap = plt.cm.gray_r, interpolation = 'nearest')\n",
    "    plt.show()"
   ]
  },
  {
   "cell_type": "code",
   "execution_count": 25,
   "metadata": {},
   "outputs": [],
   "source": [
    "def plot_image(i, predictions, true_labels, img):\n",
    "  prediction, true_label, img = predictions[i], true_labels[i], img[i]\n",
    "  img = img.reshape(28,28)\n",
    "  plt.grid(False)\n",
    "  plt.xticks([])\n",
    "  plt.yticks([])\n",
    "  \n",
    "  plt.imshow(img, cmap=plt.cm.binary)\n",
    "\n",
    "  predicted_label = prediction\n",
    "  if predicted_label == true_label:\n",
    "    color = 'blue'\n",
    "  else:\n",
    "    color = 'red'\n",
    "  \n",
    "  plt.xlabel(\"{} ({})\".format(class_names[predicted_label],\n",
    "                                class_names[true_label]),\n",
    "                                color=color)"
   ]
  },
  {
   "cell_type": "code",
   "execution_count": 26,
   "metadata": {},
   "outputs": [
    {
     "data": {
      "image/png": "[encoded data removed]",
      "text/plain": [
       "<Figure size 432x216 with 1 Axes>"
      ]
     },
     "metadata": {},
     "output_type": "display_data"
    }
   ],
   "source": [
    "i = 0\n",
    "plt.figure(figsize=(6,3))\n",
    "plt.subplot(1,2,1)\n",
    "plot_image(i, predictions, test_labels, test_images)"
   ]
  },
  {
   "cell_type": "code",
   "execution_count": 27,
   "metadata": {},
   "outputs": [
    {
     "data": {
      "image/png": "[encoded data removed]",
      "text/plain": [
       "<Figure size 432x216 with 1 Axes>"
      ]
     },
     "metadata": {},
     "output_type": "display_data"
    }
   ],
   "source": [
    "i = 12\n",
    "plt.figure(figsize=(6,3))\n",
    "plt.subplot(1,2,1)\n",
    "plot_image(i, predictions, test_labels, test_images)"
   ]
  },
  {
   "cell_type": "code",
   "execution_count": 28,
   "metadata": {},
   "outputs": [
    {
     "data": {
      "image/png": "[encoded data removed]",
      "text/plain": [
       "<Figure size 864x720 with 15 Axes>"
      ]
     },
     "metadata": {},
     "output_type": "display_data"
    }
   ],
   "source": [
    "#Plot the first X test images, their predicted label, and the true label\n",
    "# Color correct predictions in blue, incorrect predictions in red\n",
    "num_rows = 5\n",
    "num_cols = 3\n",
    "num_images = num_rows*num_cols\n",
    "plt.figure(figsize=(2*2*num_cols, 2*num_rows))\n",
    "for i in range(num_images):\n",
    "    plt.subplot(num_rows, 2*num_cols, 2*i+1)\n",
    "    plot_image(i, predictions, test_labels, test_images)"
   ]
  },
  {
   "cell_type": "code",
   "execution_count": 29,
   "metadata": {},
   "outputs": [
    {
     "data": {
      "image/png": "[encoded data removed]",
      "text/plain": [
       "<Figure size 432x216 with 1 Axes>"
      ]
     },
     "metadata": {},
     "output_type": "display_data"
    }
   ],
   "source": [
    "i = 20\n",
    "plt.figure(figsize=(6,3))\n",
    "plt.subplot(1,2,1)\n",
    "plot_image(i, predictions, test_labels, test_images)"
   ]
  },
  {
   "cell_type": "code",
   "execution_count": 30,
   "metadata": {},
   "outputs": [
    {
     "data": {
      "text/plain": [
       "os.stat_result(st_mode=33188, st_ino=4312670760, st_dev=16777220, st_nlink=1, st_uid=501, st_gid=20, st_size=442092, st_atime=1543172330, st_mtime=1543172330, st_ctime=1543172435)"
      ]
     },
     "execution_count": 30,
     "metadata": {},
     "output_type": "execute_result"
    }
   ],
   "source": [
    "from azureml.core import Workspace\n",
    "from azureml.core.model import Model\n",
    "\n",
    "#ws = Workspace.from_config()\n",
    "#ws.get_details()\n",
    "model=Model(ws, 'fashion_mnist')\n",
    "model.download(target_dir = '.')\n",
    "import os \n",
    "# verify the downloaded model file\n",
    "os.stat('fashion_mnist_model.pkl')"
   ]
  },
  {
   "cell_type": "code",
   "execution_count": 31,
   "metadata": {},
   "outputs": [],
   "source": [
    "import pickle\n",
    "from sklearn.externals import joblib\n",
    "\n",
    "clf = joblib.load('fashion_mnist_model.pkl')\n",
    "predictions = clf.predict(X_test)"
   ]
  },
  {
   "cell_type": "code",
   "execution_count": 34,
   "metadata": {},
   "outputs": [
    {
     "name": "stdout",
     "output_type": "stream",
     "text": [
      "[[ 8  0  0  0  0  0  0  0  0  0]\n",
      " [ 0 13  0  0  0  0  0  0  0  0]\n",
      " [ 0  0 11  1  1  0  1  0  0  0]\n",
      " [ 1  0  0  7  1  0  0  0  0  0]\n",
      " [ 0  0  3  0  6  0  1  0  0  0]\n",
      " [ 0  0  0  0  0  8  0  1  0  0]\n",
      " [ 1  0  1  0  1  0  5  0  0  0]\n",
      " [ 0  0  0  0  0  1  0  9  0  1]\n",
      " [ 0  0  0  0  0  0  1  0 11  0]\n",
      " [ 0  0  0  0  0  1  0  1  0  4]]\n",
      "Overall accuracy: 0.82\n"
     ]
    }
   ],
   "source": [
    "from sklearn.metrics import confusion_matrix\n",
    "\n",
    "conf_mx = confusion_matrix(y_test, predictions)\n",
    "print(conf_mx)\n",
    "print('Overall accuracy:', np.average(predictions==y_test))"
   ]
  },
  {
   "cell_type": "code",
   "execution_count": 35,
   "metadata": {},
   "outputs": [],
   "source": [
    "def plot_confusion_matrix(cm, classes,\n",
    "                          normalize=False,\n",
    "                          title='Confusion matrix',\n",
    "                          cmap=plt.cm.Blues):\n",
    "    \"\"\"\n",
    "    This function prints and plots the confusion matrix.\n",
    "    Normalization can be applied by setting `normalize=True`.\n",
    "    \"\"\"\n",
    "    if normalize:\n",
    "        cm = cm.astype('float') / cm.sum(axis=1)[:, np.newaxis]\n",
    "        print(\"Normalized confusion matrix\")\n",
    "    else:\n",
    "        print('Confusion matrix, without normalization')\n",
    "\n",
    "    print(cm)\n",
    "\n",
    "    plt.imshow(cm, interpolation='nearest', cmap=cmap)\n",
    "    plt.title(title)\n",
    "    plt.colorbar()\n",
    "    tick_marks = np.arange(len(classes))\n",
    "    plt.xticks(tick_marks, classes, rotation=45)\n",
    "    plt.yticks(tick_marks, classes)\n",
    "\n",
    "    fmt = '.2f' if normalize else 'd'\n",
    "    thresh = cm.max() / 2.\n",
    "    for i, j in itertools.product(range(cm.shape[0]), range(cm.shape[1])):\n",
    "        plt.text(j, i, format(cm[i, j], fmt),\n",
    "                 horizontalalignment=\"center\",\n",
    "                 color=\"white\" if cm[i, j] > thresh else \"black\")\n",
    "\n",
    "    plt.ylabel('True label')\n",
    "    plt.xlabel('Predicted label')\n",
    "    plt.tight_layout()"
   ]
  },
  {
   "cell_type": "code",
   "execution_count": 90,
   "metadata": {},
   "outputs": [
    {
     "name": "stdout",
     "output_type": "stream",
     "text": [
      "Confusion matrix, without normalization\n",
      "[[ 7  0  0  1  0  0  0  0  0  0]\n",
      " [ 0 13  0  0  0  0  0  0  0  0]\n",
      " [ 0  0 10  1  3  0  0  0  0  0]\n",
      " [ 0  1  0  6  2  0  0  0  0  0]\n",
      " [ 0  0  5  0  4  0  1  0  0  0]\n",
      " [ 0  0  0  0  0  8  0  1  0  0]\n",
      " [ 1  0  1  0  2  0  4  0  0  0]\n",
      " [ 0  0  0  0  0  1  0  9  0  1]\n",
      " [ 0  0  1  0  0  0  0  0 11  0]\n",
      " [ 0  0  0  0  0  1  0  2  0  3]]\n",
      "Normalized confusion matrix\n",
      "[[0.88 0.   0.   0.12 0.   0.   0.   0.   0.   0.  ]\n",
      " [0.   1.   0.   0.   0.   0.   0.   0.   0.   0.  ]\n",
      " [0.   0.   0.71 0.07 0.21 0.   0.   0.   0.   0.  ]\n",
      " [0.   0.11 0.   0.67 0.22 0.   0.   0.   0.   0.  ]\n",
      " [0.   0.   0.5  0.   0.4  0.   0.1  0.   0.   0.  ]\n",
      " [0.   0.   0.   0.   0.   0.89 0.   0.11 0.   0.  ]\n",
      " [0.12 0.   0.12 0.   0.25 0.   0.5  0.   0.   0.  ]\n",
      " [0.   0.   0.   0.   0.   0.09 0.   0.82 0.   0.09]\n",
      " [0.   0.   0.08 0.   0.   0.   0.   0.   0.92 0.  ]\n",
      " [0.   0.   0.   0.   0.   0.17 0.   0.33 0.   0.5 ]]\n"
     ]
    },
    {
     "data": {
      "image/png": "[encoded data removed]",
      "text/plain": [
       "<Figure size 432x288 with 2 Axes>"
      ]
     },
     "metadata": {
      "needs_background": "light"
     },
     "output_type": "display_data"
    },
    {
     "data": {
      "image/png": "[encoded data removed]",
      "text/plain": [
       "<Figure size 432x288 with 2 Axes>"
      ]
     },
     "metadata": {
      "needs_background": "light"
     },
     "output_type": "display_data"
    }
   ],
   "source": [
    "# Compute confusion matrix\n",
    "cnf_matrix = confusion_matrix(y_test, predictions)\n",
    "np.set_printoptions(precision=2)\n",
    "\n",
    "# Plot non-normalized confusion matrix\n",
    "plt.figure()\n",
    "plot_confusion_matrix(cnf_matrix, classes=class_names,\n",
    "                      title='Confusion matrix, without normalization')\n",
    "\n",
    "# Plot normalized confusion matrix\n",
    "plt.figure()\n",
    "plot_confusion_matrix(cnf_matrix, classes=class_names, normalize=True,\n",
    "                      title='Normalized confusion matrix')\n",
    "\n",
    "plt.show()"
   ]
  },
  {
   "cell_type": "code",
   "execution_count": 37,
   "metadata": {},
   "outputs": [
    {
     "data": {
      "image/png": "[encoded data removed]",
      "text/plain": [
       "<Figure size 576x360 with 2 Axes>"
      ]
     },
     "metadata": {
      "needs_background": "light"
     },
     "output_type": "display_data"
    }
   ],
   "source": [
    "#normalize the diagnal cells so that they don't overpower the rest of the cells when visualized\n",
    "row_sums = conf_mx.sum(axis=1, keepdims=True)\n",
    "norm_conf_mx = conf_mx / row_sums\n",
    "np.fill_diagonal(norm_conf_mx, 0)\n",
    "\n",
    "fig = plt.figure(figsize=(8,5))\n",
    "ax = fig.add_subplot(111)\n",
    "cax = ax.matshow(norm_conf_mx, cmap=plt.cm.bone)\n",
    "ticks = np.arange(0, 10, 1)\n",
    "ax.set_xticks(ticks)\n",
    "ax.set_yticks(ticks)\n",
    "ax.set_xticklabels(ticks)\n",
    "ax.set_yticklabels(ticks)\n",
    "fig.colorbar(cax)\n",
    "plt.ylabel('true labels', fontsize=14)\n",
    "plt.xlabel('predicted values', fontsize=14)\n",
    "plt.savefig('conf.png')\n",
    "plt.show()"
   ]
  }
 ],
 "metadata": {
  "kernelspec": {
   "display_name": "Python 3",
   "language": "python",
   "name": "python3"
  },
  "language_info": {
   "codemirror_mode": {
    "name": "ipython",
    "version": 3
   },
   "file_extension": ".py",
   "mimetype": "text/x-python",
   "name": "python",
   "nbconvert_exporter": "python",
   "pygments_lexer": "ipython3",
   "version": "3.6.6"
  }
 },
 "nbformat": 4,
 "nbformat_minor": 2
}
